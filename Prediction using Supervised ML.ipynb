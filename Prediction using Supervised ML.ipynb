{
 "cells": [
  {
   "cell_type": "markdown",
   "id": "7ec5603f",
   "metadata": {},
   "source": [
    "## The Sparks Foundation Internship (Data Science & Business Analytics)  \n",
    "\n",
    "### Task1 - *Prediction using Supervised ML*\n",
    "### Author - *Rahul*\n",
    "\n",
    "\n",
    "#### Task :\n",
    "<b>\n",
    "    <ol>\n",
    "      <li>Predict  the Percentage Score of a student based on the no. of study hours</li>\n",
    "      <li>What will be predicted score if a student studies for 9.25 hrs/day?</li>\n",
    "    </ol>\n",
    "</b>\n",
    "\n",
    "\n",
    "<b><hr></b>\n",
    "<b><hr></b>"
   ]
  },
  {
   "cell_type": "code",
   "execution_count": 53,
   "id": "1595f8fa",
   "metadata": {},
   "outputs": [],
   "source": [
    "# Importing libraries \n",
    "import numpy as np\n",
    "import pandas as pd\n",
    "import matplotlib.pyplot as plt \n",
    "import seaborn as sns\n",
    "from sklearn.model_selection import train_test_split\n",
    "from sklearn.linear_model import LinearRegression\n",
    "from sklearn.metrics import r2_score, mean_absolute_error"
   ]
  },
  {
   "cell_type": "markdown",
   "id": "2bfc65ce",
   "metadata": {},
   "source": [
    "# Step 1: Gathering Data"
   ]
  },
  {
   "cell_type": "code",
   "execution_count": 54,
   "id": "c3f1a0ec",
   "metadata": {},
   "outputs": [
    {
     "data": {
      "text/html": [
       "<div>\n",
       "<style scoped>\n",
       "    .dataframe tbody tr th:only-of-type {\n",
       "        vertical-align: middle;\n",
       "    }\n",
       "\n",
       "    .dataframe tbody tr th {\n",
       "        vertical-align: top;\n",
       "    }\n",
       "\n",
       "    .dataframe thead th {\n",
       "        text-align: right;\n",
       "    }\n",
       "</style>\n",
       "<table border=\"1\" class=\"dataframe\">\n",
       "  <thead>\n",
       "    <tr style=\"text-align: right;\">\n",
       "      <th></th>\n",
       "      <th>Hours</th>\n",
       "      <th>Scores</th>\n",
       "    </tr>\n",
       "  </thead>\n",
       "  <tbody>\n",
       "    <tr>\n",
       "      <th>0</th>\n",
       "      <td>2.5</td>\n",
       "      <td>21</td>\n",
       "    </tr>\n",
       "    <tr>\n",
       "      <th>1</th>\n",
       "      <td>5.1</td>\n",
       "      <td>47</td>\n",
       "    </tr>\n",
       "    <tr>\n",
       "      <th>2</th>\n",
       "      <td>3.2</td>\n",
       "      <td>27</td>\n",
       "    </tr>\n",
       "    <tr>\n",
       "      <th>3</th>\n",
       "      <td>8.5</td>\n",
       "      <td>75</td>\n",
       "    </tr>\n",
       "    <tr>\n",
       "      <th>4</th>\n",
       "      <td>3.5</td>\n",
       "      <td>30</td>\n",
       "    </tr>\n",
       "  </tbody>\n",
       "</table>\n",
       "</div>"
      ],
      "text/plain": [
       "   Hours  Scores\n",
       "0    2.5      21\n",
       "1    5.1      47\n",
       "2    3.2      27\n",
       "3    8.5      75\n",
       "4    3.5      30"
      ]
     },
     "execution_count": 54,
     "metadata": {},
     "output_type": "execute_result"
    }
   ],
   "source": [
    "# Loading the data set\n",
    "url = 'https://raw.githubusercontent.com/AdiPersonalWorks/Random/master/student_scores%20-%20student_scores.csv'\n",
    "student_data = pd.read_csv(url)\n",
    "student_data.head()"
   ]
  },
  {
   "cell_type": "markdown",
   "id": "4e8804c8",
   "metadata": {},
   "source": [
    "# Step 2: Analyzing the Data"
   ]
  },
  {
   "cell_type": "code",
   "execution_count": 55,
   "id": "a7cf3f60",
   "metadata": {
    "scrolled": true
   },
   "outputs": [
    {
     "name": "stdout",
     "output_type": "stream",
     "text": [
      "<class 'pandas.core.frame.DataFrame'>\n",
      "RangeIndex: 25 entries, 0 to 24\n",
      "Data columns (total 2 columns):\n",
      " #   Column  Non-Null Count  Dtype  \n",
      "---  ------  --------------  -----  \n",
      " 0   Hours   25 non-null     float64\n",
      " 1   Scores  25 non-null     int64  \n",
      "dtypes: float64(1), int64(1)\n",
      "memory usage: 528.0 bytes\n"
     ]
    }
   ],
   "source": [
    "# Checking for Null values\n",
    "student_data.info()"
   ]
  },
  {
   "cell_type": "markdown",
   "id": "b037d5cd",
   "metadata": {},
   "source": [
    "#### As we can see above that, there are no null values in the dataset."
   ]
  },
  {
   "cell_type": "code",
   "execution_count": 56,
   "id": "36aba908",
   "metadata": {
    "scrolled": true
   },
   "outputs": [
    {
     "data": {
      "image/png": "[encoded data removed]",
      "text/plain": [
       "<Figure size 1080x216 with 2 Axes>"
      ]
     },
     "metadata": {},
     "output_type": "display_data"
    }
   ],
   "source": [
    "# Checking for Outliers in the data using Boxplot\n",
    "fig, axes = plt.subplots(1,2, figsize = (15, 3))\n",
    "fig.suptitle(\"Boxplot of Hours Studied and Percentage Score for checking Outliers\")\n",
    "sns.set_style('whitegrid')\n",
    "sns.boxplot(ax = axes[0], x = student_data['Hours'], color = 'green')\n",
    "sns.boxplot(ax = axes[1], x = student_data['Scores'], color = 'yellow')\n",
    "plt.show()"
   ]
  },
  {
   "cell_type": "markdown",
   "id": "335e77c4",
   "metadata": {},
   "source": [
    "### As we can see above that there are no outliers present in data.\n",
    "<hr>"
   ]
  },
  {
   "cell_type": "code",
   "execution_count": 57,
   "id": "152bea37",
   "metadata": {},
   "outputs": [
    {
     "data": {
      "text/plain": [
       "<AxesSubplot:>"
      ]
     },
     "execution_count": 57,
     "metadata": {},
     "output_type": "execute_result"
    },
    {
     "data": {
      "image/png": "[encoded data removed]",
      "text/plain": [
       "<Figure size 432x288 with 2 Axes>"
      ]
     },
     "metadata": {},
     "output_type": "display_data"
    }
   ],
   "source": [
    "correlation = student_data.corr()\n",
    "sns.heatmap(correlation, annot = True, cmap = \"viridis\")"
   ]
  },
  {
   "cell_type": "markdown",
   "id": "f6397928",
   "metadata": {},
   "source": [
    "#### Here, \"Hours\" and \"Scores\" got a 0.976191 correlation, which is a very good positive correlation so we can predict \"Scores\" based on the value of \"Hours\"."
   ]
  },
  {
   "cell_type": "markdown",
   "id": "4efa2497",
   "metadata": {},
   "source": [
    "##### "
   ]
  },
  {
   "cell_type": "code",
   "execution_count": 58,
   "id": "d4e99f1d",
   "metadata": {},
   "outputs": [
    {
     "data": {
      "image/png": "[encoded data removed]",
      "text/plain": [
       "<Figure size 432x288 with 1 Axes>"
      ]
     },
     "metadata": {},
     "output_type": "display_data"
    }
   ],
   "source": [
    "# plotting the distribution of student data using \"Matplot Library\"\n",
    "plt.scatter(student_data['Hours'], student_data['Scores'])\n",
    "plt.title('Hours vs Score')\n",
    "plt.xlabel('Hours Studied')  \n",
    "plt.ylabel('Percentage Score')  \n",
    "plt.show()"
   ]
  },
  {
   "cell_type": "markdown",
   "id": "a4bec4c6",
   "metadata": {},
   "source": [
    "#### The above scatter plot shows that if the Hours Studied increases then corresponding Percentage Score also increases. It also shows that there is a positive  linear dependency between \"Hours\" and \"Scores\"."
   ]
  },
  {
   "cell_type": "markdown",
   "id": "ce38e3ef",
   "metadata": {},
   "source": [
    "# Step 3: Preparing that Data for Model Creation"
   ]
  },
  {
   "cell_type": "code",
   "execution_count": 59,
   "id": "d2cb640d",
   "metadata": {},
   "outputs": [],
   "source": [
    "# Data Prepareation for Model Creation\n",
    "# Splitting the data into Independent(Input) variables and Dependent(Target) variable\n",
    "x = student_data[\"Hours\"].values.reshape(-1,1) # here 1 stands for only one column \n",
    "y = student_data[\"Scores\"].values.reshape(-1,1)"
   ]
  },
  {
   "cell_type": "code",
   "execution_count": 60,
   "id": "da6fc266",
   "metadata": {},
   "outputs": [
    {
     "name": "stdout",
     "output_type": "stream",
     "text": [
      "Shape of Datasets-->\n",
      "Training Set X :  (20, 1)\n",
      "Training Set Y :  (20, 1)\n",
      "Test Set X :  (5, 1)\n",
      "Test Set Y :  (5, 1)\n"
     ]
    }
   ],
   "source": [
    "# Splitting the data into Training and Testing Set by using Scikit-Learn's built-in train_test_split() method:\n",
    "# It is sujjested that use 75% of the original data for the Training and remaining 25% data for the Testing\n",
    "# Here, Splitting 20% of the original data into the Testing set and remaining data into the Training set\n",
    "\n",
    "x_train, x_test, y_train, y_test = train_test_split(x,y, test_size = 0.2, random_state = 0)\n",
    "\n",
    "print(\"Shape of Datasets-->\")\n",
    "print(\"Training Set X : \", x_train.shape)\n",
    "print(\"Training Set Y : \", y_train.shape)\n",
    "print(\"Test Set X : \", x_test.shape)\n",
    "print(\"Test Set Y : \", y_test.shape)"
   ]
  },
  {
   "cell_type": "markdown",
   "id": "e59cfbdd",
   "metadata": {},
   "source": [
    "# Step 4: Model Creation"
   ]
  },
  {
   "cell_type": "code",
   "execution_count": 61,
   "id": "c1cfb568",
   "metadata": {
    "scrolled": false
   },
   "outputs": [
    {
     "name": "stdout",
     "output_type": "stream",
     "text": [
      "Model created successfully.\n"
     ]
    }
   ],
   "source": [
    "# Model Creation (Simple Linear Regression using Scikit-Learn library)\n",
    "model =  LinearRegression()\n",
    "print(\"Model created successfully.\")"
   ]
  },
  {
   "cell_type": "markdown",
   "id": "c3d0edc1",
   "metadata": {},
   "source": [
    "# Step 5: Training the created Model"
   ]
  },
  {
   "cell_type": "code",
   "execution_count": 62,
   "id": "ee947081",
   "metadata": {},
   "outputs": [
    {
     "name": "stdout",
     "output_type": "stream",
     "text": [
      "Training completed.\n",
      "\n",
      "Coefficient:  [[9.91065648]]\n",
      "Intercept:  [2.01816004]\n"
     ]
    }
   ],
   "source": [
    "# Training the Model\n",
    "model.fit(x_train, y_train)\n",
    "print(\"Training completed.\\n\")\n",
    "\n",
    "print(\"Coefficient: \", model.coef_)\n",
    "print(\"Intercept: \", model.intercept_)"
   ]
  },
  {
   "cell_type": "markdown",
   "id": "21127ff1",
   "metadata": {},
   "source": [
    "# Step 6: Model visualization "
   ]
  },
  {
   "cell_type": "code",
   "execution_count": 63,
   "id": "4746e55f",
   "metadata": {},
   "outputs": [
    {
     "data": {
      "image/png": "[encoded data removed]",
      "text/plain": [
       "<Figure size 432x288 with 1 Axes>"
      ]
     },
     "metadata": {},
     "output_type": "display_data"
    }
   ],
   "source": [
    "# Plotting the regression line on the Scatter Plot\n",
    "# y = mx + c\n",
    "line = (model.coef_*x) + model.intercept_  \n",
    "# Plotting for the test data\n",
    "plt.scatter(x, y, c = \"Red\")\n",
    "plt.plot(x, line, c = \"Green\")\n",
    "plt.title('Regression')\n",
    "plt.xlabel('Hours Studied')  \n",
    "plt.ylabel('Percentage Score')  \n",
    "plt.show()"
   ]
  },
  {
   "cell_type": "markdown",
   "id": "c844ae57",
   "metadata": {},
   "source": [
    "# Step 7: Predicting the Test Dataset using created Model"
   ]
  },
  {
   "cell_type": "code",
   "execution_count": 64,
   "id": "b1726d73",
   "metadata": {},
   "outputs": [
    {
     "name": "stdout",
     "output_type": "stream",
     "text": [
      "[[16.88414476]\n",
      " [33.73226078]\n",
      " [75.357018  ]\n",
      " [26.79480124]\n",
      " [60.49103328]]\n"
     ]
    }
   ],
   "source": [
    "y_predicted = model.predict(x_test)\n",
    "print(y_predicted)"
   ]
  },
  {
   "cell_type": "markdown",
   "id": "d71eac5a",
   "metadata": {},
   "source": [
    "# Step 8: Model Evaluation"
   ]
  },
  {
   "cell_type": "code",
   "execution_count": 65,
   "id": "0a4cfc5f",
   "metadata": {},
   "outputs": [
    {
     "name": "stdout",
     "output_type": "stream",
     "text": [
      "   Actual  Predicted\n",
      "0      20  16.884145\n",
      "1      27  33.732261\n",
      "2      69  75.357018\n",
      "3      30  26.794801\n",
      "4      62  60.491033\n"
     ]
    }
   ],
   "source": [
    "# Comparing Actual vs Predicted values \n",
    "df = pd.DataFrame({'Actual': y_test.ravel(), 'Predicted': y_predicted.ravel()})  \n",
    "# ravel() is used in Numpy to make any nD array into 1D array \n",
    "print(df)"
   ]
  },
  {
   "cell_type": "code",
   "execution_count": 66,
   "id": "95f5b1e2",
   "metadata": {
    "scrolled": true
   },
   "outputs": [
    {
     "name": "stdout",
     "output_type": "stream",
     "text": [
      "R2_score :  0.9454906892105355\n"
     ]
    }
   ],
   "source": [
    "# Model Evaluation\n",
    "print(\"R2_score : \", r2_score(y_test, y_predicted))"
   ]
  },
  {
   "cell_type": "markdown",
   "id": "d2cd5549",
   "metadata": {},
   "source": [
    "<h3>Observation</h3>\n",
    "<b><ul>\n",
    "      <li>The Overall accuracy of this model is 94%</li>\n",
    "</ul></b>"
   ]
  },
  {
   "cell_type": "markdown",
   "id": "01c696f0",
   "metadata": {},
   "source": [
    "# Step 9: Final Prediction"
   ]
  },
  {
   "cell_type": "code",
   "execution_count": 67,
   "id": "3cd1e9b5",
   "metadata": {
    "scrolled": true
   },
   "outputs": [
    {
     "name": "stdout",
     "output_type": "stream",
     "text": [
      "[[93.7]]\n"
     ]
    }
   ],
   "source": [
    "# Predicting Percentage score if a student studies for 9.25 hrs/day\n",
    "hour = np.array([9.25]).reshape(-1,1)\n",
    "percentage = np.round(model.predict(hour), decimals = 1)\n",
    "print(percentage)"
   ]
  },
  {
   "cell_type": "markdown",
   "id": "408c94ec",
   "metadata": {},
   "source": [
    "### This Linear regression model predicts that if a student study for 9.25 hrs/day, then they will get approximately 93.7% score."
   ]
  }
 ],
 "metadata": {
  "kernelspec": {
   "display_name": "Python 3",
   "language": "python",
   "name": "python3"
  },
  "language_info": {
   "codemirror_mode": {
    "name": "ipython",
    "version": 3
   },
   "file_extension": ".py",
   "mimetype": "text/x-python",
   "name": "python",
   "nbconvert_exporter": "python",
   "pygments_lexer": "ipython3",
   "version": "3.8.3"
  }
 },
 "nbformat": 4,
 "nbformat_minor": 5
}
